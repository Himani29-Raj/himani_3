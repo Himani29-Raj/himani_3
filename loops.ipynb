{
 "metadata": {
  "language_info": {
   "codemirror_mode": {
    "name": "ipython",
    "version": 3
   },
   "file_extension": ".py",
   "mimetype": "text/x-python",
   "name": "python",
   "nbconvert_exporter": "python",
   "pygments_lexer": "ipython3",
   "version": "3.9.1-final"
  },
  "orig_nbformat": 2,
  "kernelspec": {
   "name": "python3",
   "display_name": "Python 3.9.1 64-bit",
   "metadata": {
    "interpreter": {
     "hash": "43435a050d4ac362dc4b1b4851a0333547cf4819a4e47175b9a0f2919a9b0b1b"
    }
   }
  }
 },
 "nbformat": 4,
 "nbformat_minor": 2,
 "cells": [
  {
   "source": [
    "# for\n",
    "    "
   ],
   "cell_type": "markdown",
   "metadata": {}
  },
  {
   "cell_type": "code",
   "execution_count": 1,
   "metadata": {},
   "outputs": [
    {
     "output_type": "execute_result",
     "data": {
      "text/plain": [
       "7"
      ]
     },
     "metadata": {},
     "execution_count": 1
    }
   ],
   "source": [
    "x= [1,2,3,4,5,6,7]\n",
    "len (x)"
   ]
  },
  {
   "cell_type": "code",
   "execution_count": 2,
   "metadata": {},
   "outputs": [
    {
     "output_type": "stream",
     "name": "stdout",
     "text": [
      "1\n2\n3\n4\n5\n6\n7\n"
     ]
    }
   ],
   "source": [
    "for i in x:\n",
    "    print(i)\n",
    "    "
   ]
  },
  {
   "source": [],
   "cell_type": "markdown",
   "metadata": {}
  },
  {
   "cell_type": "code",
   "execution_count": 2,
   "metadata": {},
   "outputs": [
    {
     "output_type": "stream",
     "name": "stdout",
     "text": [
      "H\ni\nm\na\nn\ni\n \nR\na\nj\n"
     ]
    }
   ],
   "source": [
    "name = 'Himani Raj'\n",
    "for ch in name:\n",
    "    print(ch)"
   ]
  },
  {
   "cell_type": "code",
   "execution_count": 3,
   "metadata": {},
   "outputs": [
    {
     "output_type": "stream",
     "name": "stdout",
     "text": [
      "i like tiger\ni like cat\ni like dog\ni like lion\ni like elephant\ni like monkey\n"
     ]
    }
   ],
   "source": [
    "animals = ['tiger','cat','dog','lion','elephant','monkey']\n",
    "for animal in animals:\n",
    "    print(f'i like {animal}')"
   ]
  },
  {
   "cell_type": "code",
   "execution_count": 12,
   "metadata": {},
   "outputs": [
    {
     "output_type": "stream",
     "name": "stdout",
     "text": [
      "1\n1\n1\n2\n4\n8\n3\n9\n27\n4\n16\n64\n5\n25\n125\n6\n36\n216\n7\n49\n343\nthe end\n"
     ]
    }
   ],
   "source": [
    "for i in x:\n",
    "    print(i)\n",
    "    print(i**2)\n",
    "    print(i**3)\n",
    "print('the end')"
   ]
  },
  {
   "cell_type": "code",
   "execution_count": 13,
   "metadata": {},
   "outputs": [
    {
     "output_type": "stream",
     "name": "stdout",
     "text": [
      "2\n4\n6\n"
     ]
    }
   ],
   "source": [
    "for i in x:\n",
    "    if i % 2 == 0:\n",
    "        print(i)"
   ]
  },
  {
   "cell_type": "code",
   "execution_count": 16,
   "metadata": {},
   "outputs": [
    {
     "output_type": "stream",
     "name": "stdout",
     "text": [
      "10 x 1 = 10\n10 x 2 = 20\n10 x 3 = 30\n10 x 4 = 40\n10 x 5 = 50\n10 x 6 = 60\n10 x 7 = 70\n"
     ]
    }
   ],
   "source": [
    "for i in x:\n",
    "    print(f'10 x {i} = {10*i}')"
   ]
  },
  {
   "source": [
    "# iterables in python - those items that can be looped in python \n",
    "- string\n",
    "- list\n",
    "- tuple\n",
    "- set\n",
    "- dict\n",
    "- range() - used for specifying the no of items a loop should run\n",
    "- so on.."
   ],
   "cell_type": "markdown",
   "metadata": {}
  },
  {
   "source": [
    "- range(stop)-> gives a sequence from 0 ---> stop - 1\n",
    "- range(start,stop)-> gives a sequence start ---> stop - 1\n",
    "- range(start,stop,gap) -> gives a sequence from start ---> stio -1, with as gap b.w values"
   ],
   "cell_type": "markdown",
   "metadata": {}
  },
  {
   "cell_type": "code",
   "execution_count": 18,
   "metadata": {},
   "outputs": [
    {
     "output_type": "stream",
     "name": "stdout",
     "text": [
      "0\n1\n2\n3\n4\n"
     ]
    }
   ],
   "source": [
    " for i in range(5):\n",
    "    print(i)\n"
   ]
  },
  {
   "cell_type": "code",
   "execution_count": 19,
   "metadata": {},
   "outputs": [
    {
     "output_type": "stream",
     "name": "stdout",
     "text": [
      "5\n6\n7\n8\n9\n10\n"
     ]
    }
   ],
   "source": [
    " for i in range(5,11):\n",
    "     print(i)"
   ]
  },
  {
   "cell_type": "code",
   "execution_count": 20,
   "metadata": {},
   "outputs": [
    {
     "output_type": "stream",
     "name": "stdout",
     "text": [
      "1\n3\n5\n7\n9\n"
     ]
    }
   ],
   "source": [
    "for i in range(1,11,2):\n",
    "    print(i)"
   ]
  },
  {
   "cell_type": "code",
   "execution_count": 30,
   "metadata": {},
   "outputs": [
    {
     "output_type": "stream",
     "name": "stdout",
     "text": [
      "\n#\n##\n###\n####\n#####\n######\n#######\n########\n#########\n"
     ]
    }
   ],
   "source": [
    "for i in range(10):\n",
    "    print('#' * i)"
   ]
  },
  {
   "cell_type": "code",
   "execution_count": 28,
   "metadata": {},
   "outputs": [
    {
     "output_type": "stream",
     "name": "stdout",
     "text": [
      "**********\n*********\n********\n*******\n******\n*****\n****\n***\n**\n*\n"
     ]
    }
   ],
   "source": [
    "for i in range(10,0,-1):\n",
    "    print('*' * i)"
   ]
  },
  {
   "source": [
    "# break n continue\n",
    "- break => stop loop before iys completion based on condition\n",
    "- continue => skip a code execution in loop"
   ],
   "cell_type": "markdown",
   "metadata": {}
  },
  {
   "cell_type": "code",
   "execution_count": 2,
   "metadata": {},
   "outputs": [
    {
     "output_type": "stream",
     "name": "stdout",
     "text": [
      "100\n"
     ]
    },
    {
     "output_type": "error",
     "ename": "ValueError",
     "evalue": "invalid literal for int() with base 10: ''",
     "traceback": [
      "\u001b[1;31m---------------------------------------------------------------------------\u001b[0m",
      "\u001b[1;31mValueError\u001b[0m                                Traceback (most recent call last)",
      "\u001b[1;32m<ipython-input-2-1088b780b7c3>\u001b[0m in \u001b[0;36m<module>\u001b[1;34m\u001b[0m\n\u001b[0;32m      1\u001b[0m \u001b[1;32mfor\u001b[0m \u001b[0mi\u001b[0m \u001b[1;32min\u001b[0m \u001b[0mrange\u001b[0m\u001b[1;33m(\u001b[0m\u001b[1;36m10\u001b[0m\u001b[1;33m)\u001b[0m\u001b[1;33m:\u001b[0m\u001b[1;33m\u001b[0m\u001b[1;33m\u001b[0m\u001b[0m\n\u001b[1;32m----> 2\u001b[1;33m     \u001b[0mnum\u001b[0m \u001b[1;33m=\u001b[0m \u001b[0mint\u001b[0m\u001b[1;33m(\u001b[0m\u001b[0minput\u001b[0m\u001b[1;33m(\u001b[0m\u001b[1;34m'enter a value'\u001b[0m\u001b[1;33m)\u001b[0m\u001b[1;33m)\u001b[0m\u001b[1;33m\u001b[0m\u001b[1;33m\u001b[0m\u001b[0m\n\u001b[0m\u001b[0;32m      3\u001b[0m     \u001b[1;32mif\u001b[0m \u001b[0mnum\u001b[0m \u001b[1;33m>\u001b[0m \u001b[1;36m50\u001b[0m\u001b[1;33m:\u001b[0m\u001b[1;33m\u001b[0m\u001b[1;33m\u001b[0m\u001b[0m\n\u001b[0;32m      4\u001b[0m         \u001b[0mprint\u001b[0m\u001b[1;33m(\u001b[0m\u001b[0mnum\u001b[0m\u001b[1;33m)\u001b[0m\u001b[1;33m\u001b[0m\u001b[1;33m\u001b[0m\u001b[0m\n\u001b[0;32m      5\u001b[0m     \u001b[1;32melse\u001b[0m\u001b[1;33m:\u001b[0m\u001b[1;33m\u001b[0m\u001b[1;33m\u001b[0m\u001b[0m\n",
      "\u001b[1;31mValueError\u001b[0m: invalid literal for int() with base 10: ''"
     ]
    }
   ],
   "source": [
    "for i in range(10):\n",
    "    num = int(input('enter a value'))\n",
    "    if num > 50:\n",
    "        print(num)\n",
    "    else:\n",
    "        break\n",
    "print('the end')"
   ]
  },
  {
   "source": [
    "## continue"
   ],
   "cell_type": "markdown",
   "metadata": {}
  },
  {
   "cell_type": "code",
   "execution_count": 3,
   "metadata": {},
   "outputs": [
    {
     "output_type": "execute_result",
     "data": {
      "text/plain": [
       "19"
      ]
     },
     "metadata": {},
     "execution_count": 3
    }
   ],
   "source": [
    "nums = [2,3,4,5,0,0,0,6,7,8,8,0,0,1,2,31,0,23,19]\n",
    "len(nums)"
   ]
  },
  {
   "cell_type": "code",
   "execution_count": 5,
   "metadata": {},
   "outputs": [
    {
     "output_type": "stream",
     "name": "stdout",
     "text": [
      "original 2\nsquare 4\ncube 8\n----------------------------------------\noriginal 3\nsquare 9\ncube 27\n----------------------------------------\noriginal 4\nsquare 16\ncube 64\n----------------------------------------\noriginal 5\nsquare 25\ncube 125\n----------------------------------------\noriginal 6\nsquare 36\ncube 216\n----------------------------------------\noriginal 7\nsquare 49\ncube 343\n----------------------------------------\noriginal 8\nsquare 64\ncube 512\n----------------------------------------\noriginal 8\nsquare 64\ncube 512\n----------------------------------------\noriginal 1\nsquare 1\ncube 1\n----------------------------------------\noriginal 2\nsquare 4\ncube 8\n----------------------------------------\noriginal 31\nsquare 961\ncube 29791\n----------------------------------------\noriginal 23\nsquare 529\ncube 12167\n----------------------------------------\noriginal 19\nsquare 361\ncube 6859\n----------------------------------------\n"
     ]
    }
   ],
   "source": [
    "for val in nums:\n",
    "    if val == 0:\n",
    "        continue\n",
    "    print('original',val)\n",
    "    print('square',val ** 2)\n",
    "    print('cube',val ** 3)\n",
    "    print('--'* 20)"
   ]
  },
  {
   "source": [
    "# while loop\n",
    "---\n",
    "# while condition :\n",
    "    statement 1\n",
    "    statement 2\n",
    "    ...\n",
    "    statement n"
   ],
   "cell_type": "markdown",
   "metadata": {}
  },
  {
   "cell_type": "code",
   "execution_count": 7,
   "metadata": {},
   "outputs": [
    {
     "output_type": "stream",
     "name": "stdout",
     "text": [
      "3212839012\n321283901\n32128390\n3212839\n321283\n32128\n3212\n321\n32\n3\n"
     ]
    }
   ],
   "source": [
    " i = 3212839012\n",
    " while i > 0:\n",
    "     print(i)\n",
    "     i = i // 10"
   ]
  },
  {
   "cell_type": "code",
   "execution_count": 10,
   "metadata": {},
   "outputs": [
    {
     "output_type": "stream",
     "name": "stdout",
     "text": [
      "welcome Mr Zorro\n"
     ]
    }
   ],
   "source": [
    "while True:\n",
    "    email = input('enter email addr')\n",
    "    password = input('enter password')\n",
    "\n",
    "    if email == 'zorro@gmail.com' and password == 'lalala':\n",
    "        print('welcome Mr Zorro')\n",
    "        break\n",
    "    else:\n",
    "        print('try again')\n"
   ]
  },
  {
   "source": [
    "# simple calculator"
   ],
   "cell_type": "markdown",
   "metadata": {}
  },
  {
   "cell_type": "code",
   "execution_count": 2,
   "metadata": {},
   "outputs": [
    {
     "output_type": "stream",
     "name": "stdout",
     "text": [
      "Calculator Menu\n",
      "ADD\tSUB\tDIV\tEXIT\n",
      "----------------------------------------\n",
      ">>\n",
      "34 + 45 = 79\n",
      "----------------------------------------\n",
      "Calculator Menu\n",
      "ADD\tSUB\tDIV\tEXIT\n",
      "----------------------------------------\n",
      ">>\n",
      "calc closed\n"
     ]
    }
   ],
   "source": [
    "# calculate\n",
    "while True:\n",
    "    print('Calculator Menu')\n",
    "    print('ADD\\tSUB\\tDIV\\tEXIT')\n",
    "    print('--' *20)\n",
    "    print('>>')\n",
    "    ch = input('select option >>')\n",
    "    if ch.lower() == 'add' :\n",
    "        x = int(input('enter A:'))\n",
    "        y = int(input('enter B:'))\n",
    "        print(f'{x} + {y} = {x+y}')\n",
    "        print('--'*20)\n",
    "    elif ch.lower() == 'sub' :\n",
    "        x = int(input('enter A:'))\n",
    "        y = int(input('enter B:'))\n",
    "        print(f'{x} - {y} = {x-y}')\n",
    "        print('--'*20)\n",
    "    elif ch.lower() == 'exit':\n",
    "            print('calc closed')\n",
    "            break"
   ]
  },
  {
   "cell_type": "code",
   "execution_count": 1,
   "metadata": {},
   "outputs": [
    {
     "output_type": "execute_result",
     "data": {
      "text/plain": [
       "'himani'"
      ]
     },
     "metadata": {},
     "execution_count": 1
    }
   ],
   "source": [
    "'HIMANI'.lower()"
   ]
  },
  {
   "source": [
    "# wap to make a program that takes lines from the user to store in a var - poem. the user any number of lines"
   ],
   "cell_type": "markdown",
   "metadata": {}
  },
  {
   "cell_type": "code",
   "execution_count": 4,
   "metadata": {},
   "outputs": [
    {
     "output_type": "stream",
     "name": "stdout",
     "text": [
      "enter ur poem >>\n",
      "your poem is\n",
      "ba ba black sheep\n",
      "have u any wool\n",
      "yes sir yes sir\n",
      "3 bags full\n",
      "\n"
     ]
    }
   ],
   "source": [
    "poem = ''\n",
    "print(\"enter ur poem >>\")\n",
    "while True:\n",
    "    line = input('>>')\n",
    "    if line:\n",
    "        poem += line +'\\n'\n",
    "    else:\n",
    "        break\n",
    "print('your poem is')\n",
    "print(poem)\n",
    "\n"
   ]
  },
  {
   "cell_type": "code",
   "execution_count": 5,
   "metadata": {},
   "outputs": [
    {
     "output_type": "execute_result",
     "data": {
      "text/plain": [
       "'ba ba black sheep\\nhave u any wool\\nyes sir yes sir\\n3 bags full\\n'"
      ]
     },
     "metadata": {},
     "execution_count": 5
    }
   ],
   "source": [
    "poem"
   ]
  },
  {
   "cell_type": "code",
   "execution_count": null,
   "metadata": {},
   "outputs": [],
   "source": []
  }
 ]
}
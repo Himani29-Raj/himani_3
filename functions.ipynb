{
 "metadata": {
  "language_info": {
   "codemirror_mode": {
    "name": "ipython",
    "version": 3
   },
   "file_extension": ".py",
   "mimetype": "text/x-python",
   "name": "python",
   "nbconvert_exporter": "python",
   "pygments_lexer": "ipython3",
   "version": "3.9.1-final"
  },
  "orig_nbformat": 2,
  "kernelspec": {
   "name": "python3",
   "display_name": "Python 3.9.1 64-bit",
   "metadata": {
    "interpreter": {
     "hash": "43435a050d4ac362dc4b1b4851a0333547cf4819a4e47175b9a0f2919a9b0b1b"
    }
   }
  }
 },
 "nbformat": 4,
 "nbformat_minor": 2,
 "cells": [
  {
   "source": [
    "# Defining and calling functions"
   ],
   "cell_type": "markdown",
   "metadata": {}
  },
  {
   "cell_type": "code",
   "execution_count": 1,
   "metadata": {},
   "outputs": [],
   "source": [
    "def check():\n",
    "    print('This is a function')"
   ]
  },
  {
   "cell_type": "code",
   "execution_count": 2,
   "metadata": {},
   "outputs": [
    {
     "output_type": "stream",
     "name": "stdout",
     "text": [
      "This is a function\n"
     ]
    }
   ],
   "source": [
    "check()"
   ]
  },
  {
   "cell_type": "code",
   "execution_count": 3,
   "metadata": {},
   "outputs": [
    {
     "output_type": "execute_result",
     "data": {
      "text/plain": [
       "5"
      ]
     },
     "metadata": {},
     "execution_count": 3
    }
   ],
   "source": [
    "len([1, 2, 3, 4, 5])"
   ]
  },
  {
   "cell_type": "code",
   "execution_count": 4,
   "metadata": {},
   "outputs": [
    {
     "output_type": "execute_result",
     "data": {
      "text/plain": [
       "[1, 2, 4, 7]"
      ]
     },
     "metadata": {},
     "execution_count": 4
    }
   ],
   "source": [
    "sorted((1, 4, 7, 2))"
   ]
  },
  {
   "cell_type": "code",
   "execution_count": 5,
   "metadata": {},
   "outputs": [
    {
     "output_type": "execute_result",
     "data": {
      "text/plain": [
       "5679"
      ]
     },
     "metadata": {},
     "execution_count": 5
    }
   ],
   "source": [
    "round(5678.89)"
   ]
  },
  {
   "cell_type": "code",
   "execution_count": 6,
   "metadata": {},
   "outputs": [
    {
     "output_type": "execute_result",
     "data": {
      "text/plain": [
       "2808"
      ]
     },
     "metadata": {},
     "execution_count": 6
    }
   ],
   "source": [
    "eval('234*12')"
   ]
  },
  {
   "cell_type": "code",
   "execution_count": 8,
   "metadata": {},
   "outputs": [
    {
     "output_type": "execute_result",
     "data": {
      "text/plain": [
       "list"
      ]
     },
     "metadata": {},
     "execution_count": 8
    }
   ],
   "source": [
    "type([])"
   ]
  },
  {
   "cell_type": "code",
   "execution_count": 9,
   "metadata": {},
   "outputs": [
    {
     "output_type": "execute_result",
     "data": {
      "text/plain": [
       "456"
      ]
     },
     "metadata": {},
     "execution_count": 9
    }
   ],
   "source": [
    "exp = input('Enter a numerical expression')\n",
    "eval(exp)"
   ]
  },
  {
   "source": [
    "# Prime number"
   ],
   "cell_type": "markdown",
   "metadata": {}
  },
  {
   "cell_type": "code",
   "execution_count": 24,
   "metadata": {},
   "outputs": [
    {
     "output_type": "stream",
     "name": "stdout",
     "text": [
      "not prime\n"
     ]
    }
   ],
   "source": [
    "def check_prime():\n",
    "    a = 12\n",
    "    for i in range(2, a):\n",
    "        if a % i == 0:\n",
    "            print('not prime')\n",
    "            break\n",
    "    else:\n",
    "        print('prime')\n",
    "\n",
    "\n",
    "# call\n",
    "check_prime()"
   ]
  },
  {
   "cell_type": "code",
   "execution_count": 26,
   "metadata": {},
   "outputs": [
    {
     "output_type": "stream",
     "name": "stdout",
     "text": [
      "not prime\nNone\n"
     ]
    }
   ],
   "source": [
    "var = check_prime()\n",
    "print(var)"
   ]
  },
  {
   "cell_type": "code",
   "execution_count": 31,
   "metadata": {},
   "outputs": [
    {
     "output_type": "execute_result",
     "data": {
      "text/plain": [
       "'not prime'"
      ]
     },
     "metadata": {},
     "execution_count": 31
    }
   ],
   "source": [
    "def check_prime():\n",
    "    a = 12\n",
    "    for i in range(2, a):\n",
    "        if a % i == 0:\n",
    "            return('not prime')\n",
    "    else:\n",
    "        return('prime')\n",
    "\n",
    "\n",
    "# call\n",
    "check_prime()"
   ]
  },
  {
   "cell_type": "code",
   "execution_count": 8,
   "metadata": {},
   "outputs": [
    {
     "output_type": "execute_result",
     "data": {
      "text/plain": [
       "'prime'"
      ]
     },
     "metadata": {},
     "execution_count": 8
    }
   ],
   "source": [
    "\n",
    "def check_prime(n):\n",
    "    for i in range(2, n):\n",
    "        if n % i == 0:\n",
    "            return('not prime')\n",
    "    else:\n",
    "        return('prime')\n",
    "\n",
    "\n",
    "# call\n",
    "check_prime(31)\n"
   ]
  },
  {
   "cell_type": "code",
   "execution_count": 32,
   "metadata": {},
   "outputs": [
    {
     "output_type": "stream",
     "name": "stdout",
     "text": [
      "not prime\n"
     ]
    }
   ],
   "source": [
    "print(check_prime())"
   ]
  },
  {
   "cell_type": "code",
   "execution_count": 33,
   "metadata": {},
   "outputs": [
    {
     "output_type": "stream",
     "name": "stdout",
     "text": [
      "not prime\n"
     ]
    }
   ],
   "source": [
    "out = check_prime()\n",
    "print(out)"
   ]
  },
  {
   "cell_type": "code",
   "execution_count": 35,
   "metadata": {},
   "outputs": [
    {
     "output_type": "execute_result",
     "data": {
      "text/plain": [
       "('i am being returned', 'i also', 'me too')"
      ]
     },
     "metadata": {},
     "execution_count": 35
    }
   ],
   "source": [
    "def myfunc():\n",
    "    return 'i am being returned', 'i also', 'me too'\n",
    "myfunc()"
   ]
  },
  {
   "cell_type": "code",
   "execution_count": 36,
   "metadata": {},
   "outputs": [
    {
     "output_type": "execute_result",
     "data": {
      "text/plain": [
       "'i am being returned'"
      ]
     },
     "metadata": {},
     "execution_count": 36
    }
   ],
   "source": [
    "a, b, c = myfunc()\n",
    "a"
   ]
  },
  {
   "cell_type": "code",
   "execution_count": 37,
   "metadata": {},
   "outputs": [
    {
     "output_type": "execute_result",
     "data": {
      "text/plain": [
       "'i also'"
      ]
     },
     "metadata": {},
     "execution_count": 37
    }
   ],
   "source": [
    "b"
   ]
  },
  {
   "cell_type": "code",
   "execution_count": 38,
   "metadata": {},
   "outputs": [
    {
     "output_type": "execute_result",
     "data": {
      "text/plain": [
       "'me too'"
      ]
     },
     "metadata": {},
     "execution_count": 38
    }
   ],
   "source": [
    "c"
   ]
  },
  {
   "source": [
    "# fibonacci series"
   ],
   "cell_type": "markdown",
   "metadata": {}
  },
  {
   "cell_type": "code",
   "execution_count": 6,
   "metadata": {},
   "outputs": [
    {
     "output_type": "execute_result",
     "data": {
      "text/plain": [
       "[0, 1, 1, 2, 3, 5, 8, 13, 21, 34, 55, 89]"
      ]
     },
     "metadata": {},
     "execution_count": 6
    }
   ],
   "source": [
    "def fibonacci():\n",
    "    a = [0, 1]\n",
    "    for i in range(10):\n",
    "        a.append(a[-1] + a[-2])\n",
    "    return a\n",
    "\n",
    "fibonacci()\n"
   ]
  },
  {
   "cell_type": "code",
   "execution_count": null,
   "metadata": {},
   "outputs": [],
   "source": []
  }
 ]
}